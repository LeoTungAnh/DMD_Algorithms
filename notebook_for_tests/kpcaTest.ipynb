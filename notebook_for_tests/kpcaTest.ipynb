{
 "cells": [
  {
   "cell_type": "code",
   "execution_count": null,
   "metadata": {},
   "outputs": [],
   "source": [
    "#!/usr/bin/env python3\n",
    "# -*- coding: utf-8 -*-\n",
    "import numpy as np\n",
    "import matplotlib.pyplot as plt\n",
    "\n",
    "from addPath import *\n",
    "addPath()\n",
    "\n",
    "from d3s import kernels\n",
    "from d3s import algorithms\n",
    "\n",
    "#%% create data set\n",
    "n = 100\n",
    "theta = np.linspace(0, 2*np.pi, n)\n",
    "noise = 0.0\n",
    "X = np.vstack((np.cos(theta), np.sin(theta))) + noise*np.random.randn(2, n)\n",
    "y = theta < np.pi\n",
    "X[:, y] = X[:, y] - 1/np.sqrt(2);\n",
    "\n",
    "plt.figure(1)\n",
    "plt.clf()\n",
    "plt.scatter(X[0, y==0], X[1, y==0], color='red', alpha=0.5)\n",
    "plt.scatter(X[0, y==1], X[1, y==1], color='blue', alpha=0.5)\n",
    "plt.xlabel('x_1')\n",
    "plt.ylabel('x_2')\n",
    "plt.show()\n",
    "\n",
    "#%% apply kernel PCA\n",
    "sigma = 1/np.sqrt(200)\n",
    "k = kernels.gaussianKernel(sigma)\n",
    "\n",
    "d, V = algorithms.kpca(X, k, 2)\n",
    "\n",
    "plt.figure(2)\n",
    "plt.clf()\n",
    "plt.scatter(V[y==0, 0], V[y==0, 1], color='red', alpha=0.5)\n",
    "plt.scatter(V[y==1, 0], V[y==1, 1], color='blue', alpha=0.5)\n",
    "plt.xlabel('pc_1')\n",
    "plt.ylabel('pc_2')\n",
    "plt.show()\n"
   ]
  }
 ],
 "metadata": {
  "kernelspec": {
   "display_name": "Python 3.8.10 64-bit",
   "language": "python",
   "name": "python3"
  },
  "language_info": {
   "name": "python",
   "version": "3.8.10"
  },
  "orig_nbformat": 4,
  "vscode": {
   "interpreter": {
    "hash": "31f2aee4e71d21fbe5cf8b01ff0e069b9275f58929596ceb00d14d90e3e16cd6"
   }
  }
 },
 "nbformat": 4,
 "nbformat_minor": 2
}
