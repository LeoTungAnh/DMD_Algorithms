{
 "cells": [
  {
   "cell_type": "code",
   "execution_count": null,
   "metadata": {},
   "outputs": [],
   "source": [
    "#!/usr/bin/env python3\n",
    "# -*- coding: utf-8 -*-\n",
    "import scipy as sp\n",
    "import scipy.io\n",
    "import matplotlib.pyplot as plt\n",
    "from addPath import *\n",
    "\n",
    "addPath()\n",
    "from d3s import algorithms\n",
    "\n",
    "\n",
    "plt.ion()\n",
    "\n",
    "#%% load variables from mat file into main scope\n",
    "data = sp.io.loadmat('data/tica.mat', squeeze_me=True)\n",
    "for s in data.keys():\n",
    "    if s[:2] == '__' and s[-2:] == '__': continue\n",
    "    exec('%s = data[\"%s\"]' % (s, s))\n",
    "\n",
    "#%% apply TICA\n",
    "d1, V1 = algorithms.tica(X, Y)\n",
    "d2, V2 = algorithms.amuse(X, Y)\n",
    "\n",
    "Xn = V1.T @ X\n",
    "\n",
    "#%% plot original data set\n",
    "for i in range(4):\n",
    "    plt.figure()\n",
    "    plt.plot(X[i, :])\n",
    "    plt.title('X_%d' % i)\n",
    "\n",
    "#%% plot transformed data set\n",
    "for i in range(4):\n",
    "    plt.figure()\n",
    "    plt.plot(Xn[i, :])\n",
    "    plt.title('Xn_%d' % i)\n"
   ]
  }
 ],
 "metadata": {
  "kernelspec": {
   "display_name": "Python 3.8.10 64-bit",
   "language": "python",
   "name": "python3"
  },
  "language_info": {
   "name": "python",
   "version": "3.8.10"
  },
  "orig_nbformat": 4,
  "vscode": {
   "interpreter": {
    "hash": "31f2aee4e71d21fbe5cf8b01ff0e069b9275f58929596ceb00d14d90e3e16cd6"
   }
  }
 },
 "nbformat": 4,
 "nbformat_minor": 2
}
