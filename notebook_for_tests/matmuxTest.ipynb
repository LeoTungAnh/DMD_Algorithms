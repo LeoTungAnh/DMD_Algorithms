{
 "cells": [
  {
   "cell_type": "code",
   "execution_count": null,
   "metadata": {},
   "outputs": [],
   "source": [
    "#!/usr/bin/env python3\n",
    "# -*- coding: utf-8 -*-\n",
    "from addPath import *\n",
    "addPath()\n",
    "\n",
    "from d3s import tools\n",
    "import numpy as np\n",
    "\n",
    "#%% create matmux object\n",
    "mat = tools.matmux() # Matlab must be started before via: $ tmux new -s matlab \"matlab -nodesktop\"\n",
    "\n",
    "#%% call plot function directly\n",
    "x = np.linspace(1, 5, 10)\n",
    "y = np.random.rand(len(x))\n",
    "mat.plot(x, y)\n",
    "\n",
    "#%% export to Matlab\n",
    "mat.exportVars(\"x\", x)\n",
    "mat(\"y = x.^2\\nz = x.^3\")\n",
    "\n",
    "#%% import from Matlab\n",
    "y, z = mat.importVars('y', 'z')\n"
   ]
  }
 ],
 "metadata": {
  "kernelspec": {
   "display_name": "Python 3.8.10 64-bit",
   "language": "python",
   "name": "python3"
  },
  "language_info": {
   "name": "python",
   "version": "3.8.10"
  },
  "orig_nbformat": 4,
  "vscode": {
   "interpreter": {
    "hash": "31f2aee4e71d21fbe5cf8b01ff0e069b9275f58929596ceb00d14d90e3e16cd6"
   }
  }
 },
 "nbformat": 4,
 "nbformat_minor": 2
}
