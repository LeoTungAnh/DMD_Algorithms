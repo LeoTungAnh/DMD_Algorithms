{
 "cells": [
  {
   "cell_type": "code",
   "execution_count": null,
   "metadata": {},
   "outputs": [],
   "source": [
    "import numpy as np\n",
    "import scipy as sp\n",
    "\n",
    "from addPath import *\n",
    "addPath()\n",
    "from d3s import algorithms\n",
    "\n",
    "import matplotlib.pyplot as plt\n",
    "\n",
    "c = ('b', 'g', 'r', 'c', 'm', 'y', 'k')\n",
    "\n",
    "def plot(x, l):\n",
    "    k = l.max()+1\n",
    "    plt.figure()\n",
    "    for i in range(k):\n",
    "        plt.plot(x[0, l==i], x[1, l==i], c[np.mod(i, len(c))]+'.', markersize=10)\n",
    "\n",
    "k = 5\n",
    "m = 1000\n",
    "X = np.random.rand(2, m)\n",
    "l = algorithms.kmeans(X, k, 1000)\n",
    "\n",
    "plot(X, l)\n"
   ]
  }
 ],
 "metadata": {
  "kernelspec": {
   "display_name": "Python 3.8.10 64-bit",
   "language": "python",
   "name": "python3"
  },
  "language_info": {
   "name": "python",
   "version": "3.8.10"
  },
  "orig_nbformat": 4,
  "vscode": {
   "interpreter": {
    "hash": "31f2aee4e71d21fbe5cf8b01ff0e069b9275f58929596ceb00d14d90e3e16cd6"
   }
  }
 },
 "nbformat": 4,
 "nbformat_minor": 2
}
