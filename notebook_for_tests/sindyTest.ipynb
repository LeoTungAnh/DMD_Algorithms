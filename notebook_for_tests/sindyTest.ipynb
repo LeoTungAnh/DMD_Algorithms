{
 "cells": [
  {
   "cell_type": "code",
   "execution_count": 1,
   "metadata": {},
   "outputs": [
    {
     "name": "stdout",
     "output_type": "stream",
     "text": [
      "\u001b[94m  (columns 0 through 7)\u001b[0m\n",
      "     0.00000     1.00000     0.00000     0.00000     2.00000     1.00000     1.00000     0.00000\n",
      "     0.00000     0.00000     1.00000     0.00000     0.00000     1.00000     0.00000     2.00000\n",
      "     0.00000     0.00000     0.00000     1.00000     0.00000     0.00000     1.00000     0.00000\n",
      "\u001b[94m  (columns 8 through 9)\u001b[0m\n",
      "     0.00000     0.00000\n",
      "     1.00000     0.00000\n",
      "     1.00000     2.00000\n",
      "\u001b[94m  (columns 0 through 7)\u001b[0m\n",
      "     0.00000   -10.00000    10.00000     0.00000     0.00000     0.00000     0.00000     0.00000\n",
      "     0.00000    28.00000    -1.00000     0.00000     0.00000     0.00000    -1.00000     0.00000\n",
      "     0.00000     0.00000     0.00000    -2.66667     0.00000     1.00000     0.00000     0.00000\n",
      "\u001b[94m  (columns 8 through 9)\u001b[0m\n",
      "     0.00000     0.00000\n",
      "     0.00000     0.00000\n",
      "     0.00000     0.00000\n",
      "\u001b[94m  (columns 0 through 7)\u001b[0m\n",
      "     0.00000   -10.00000    10.00000    -0.00000    -0.00000     0.00000     0.00000    -0.00000\n",
      "    -0.00000    28.00000    -1.00000     0.00000     0.00000    -0.00000    -1.00000     0.00000\n",
      "     0.00000     0.00000    -0.00000    -2.66667    -0.00000     1.00000    -0.00000    -0.00000\n",
      "\u001b[94m  (columns 8 through 9)\u001b[0m\n",
      "    -0.00000     0.00000\n",
      "     0.00000    -0.00000\n",
      "     0.00000     0.00000\n"
     ]
    }
   ],
   "source": [
    "#!/usr/bin/env python3\n",
    "# -*- coding: utf-8 -*-\n",
    "import numpy as np\n",
    "import scipy as sp\n",
    "import scipy.io\n",
    "\n",
    "from addPath import *\n",
    "addPath()\n",
    "\n",
    "\n",
    "from d3s import algorithms\n",
    "from d3s import observables\n",
    "\n",
    "from d3s.tools import printVector, printMatrix\n",
    "\n",
    "#%% load variables from mat file into main scope\n",
    "data = sp.io.loadmat('data/lorenz.mat', squeeze_me=True)\n",
    "for s in data.keys():\n",
    "    if s[:2] == '__' and s[-2:] == '__': continue\n",
    "    exec('%s = data[\"%s\"]' % (s, s))\n",
    "\n",
    "#%% apply SINDy\n",
    "d = X.shape[0]\n",
    "p = 2 # maximum order of monomials\n",
    "\n",
    "psi = observables.monomials(p)\n",
    "Xi1 = algorithms.sindy(X, Y, psi, iterations=1)\n",
    "\n",
    "c = observables.allMonomialPowers(d, p)\n",
    "n = c.shape[1] # number of functions\n",
    "\n",
    "#%% output results\n",
    "printMatrix(c)\n",
    "printMatrix(Xi1)\n",
    "\n",
    "#%% apply gEDMD\n",
    "K, _, _ = algorithms.gedmd(X, Y, None, psi)\n",
    "\n",
    "# construct projection onto full-state observable\n",
    "B = np.zeros((10, d))\n",
    "for i in range(3):\n",
    "    B[i+1, i] = 1\n",
    "Xi2 = (K@B).T\n",
    "printMatrix(Xi2)"
   ]
  }
 ],
 "metadata": {
  "kernelspec": {
   "display_name": "Python 3.8.10 64-bit",
   "language": "python",
   "name": "python3"
  },
  "language_info": {
   "codemirror_mode": {
    "name": "ipython",
    "version": 3
   },
   "file_extension": ".py",
   "mimetype": "text/x-python",
   "name": "python",
   "nbconvert_exporter": "python",
   "pygments_lexer": "ipython3",
   "version": "3.8.10"
  },
  "orig_nbformat": 4,
  "vscode": {
   "interpreter": {
    "hash": "31f2aee4e71d21fbe5cf8b01ff0e069b9275f58929596ceb00d14d90e3e16cd6"
   }
  }
 },
 "nbformat": 4,
 "nbformat_minor": 2
}
